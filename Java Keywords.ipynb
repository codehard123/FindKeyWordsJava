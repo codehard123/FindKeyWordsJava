{
 "cells": [
  {
   "cell_type": "code",
   "execution_count": 53,
   "metadata": {
    "collapsed": true
   },
   "outputs": [],
   "source": [
    "import pandas as pd\n",
    "import numpy as np\n",
    "file1 = open(\"pdf.txt\",\"r\")\n",
    "text=file1.read().lower()"
   ]
  },
  {
   "cell_type": "code",
   "execution_count": 54,
   "metadata": {
    "collapsed": true
   },
   "outputs": [],
   "source": [
    "JavaKeyWords=['abstract','assert','boolean','break','byte','switch','case','try','catch','finally','char','class','continue','default','do','double','if','else','enum','extends','final','float','for','implements','import','instanceOf','init','interface','long','native','new','package','private','protected','public','return','short','static','strictfp','super','synchronized','this','throw','throws','transient','void','volatile','while','goto','const']\n",
    "              "
   ]
  },
  {
   "cell_type": "code",
   "execution_count": 55,
   "metadata": {},
   "outputs": [
    {
     "data": {
      "text/plain": [
       "50"
      ]
     },
     "execution_count": 55,
     "metadata": {},
     "output_type": "execute_result"
    }
   ],
   "source": [
    "len(JavaKeyWords)"
   ]
  },
  {
   "cell_type": "code",
   "execution_count": 56,
   "metadata": {
    "collapsed": true
   },
   "outputs": [],
   "source": [
    "from nltk.tokenize import word_tokenize\n",
    "wordToken=word_tokenize(text)"
   ]
  },
  {
   "cell_type": "code",
   "execution_count": 57,
   "metadata": {
    "collapsed": true
   },
   "outputs": [],
   "source": [
    "dict={}\n",
    "for word in JavaKeyWords:\n",
    "    count=0\n",
    "    for token in wordToken:\n",
    "        if word==token:\n",
    "            count=count+1\n",
    "            \n",
    "    dict[word]=count+1"
   ]
  },
  {
   "cell_type": "code",
   "execution_count": 58,
   "metadata": {},
   "outputs": [],
   "source": [
    "def sort_by_value():\n",
    "    \n",
    "    sortedDict=sorted(dict.items(),key=lambda t:t[1],reverse=True)\n",
    "    return sortedDict\n",
    "    "
   ]
  },
  {
   "cell_type": "code",
   "execution_count": 59,
   "metadata": {},
   "outputs": [],
   "source": [
    "dict=sort_by_value()"
   ]
  },
  {
   "cell_type": "code",
   "execution_count": 60,
   "metadata": {},
   "outputs": [
    {
     "name": "stdout",
     "output_type": "stream",
     "text": [
      "[('new', 53), ('for', 48), ('class', 30), ('this', 25), ('public', 23), ('return', 16), ('void', 15), ('if', 14), ('do', 10), ('init', 10), ('byte', 9), ('boolean', 6), ('import', 6), ('static', 6), ('else', 5), ('final', 5), ('while', 5), ('default', 4), ('double', 4), ('extends', 4), ('float', 4), ('break', 3), ('switch', 3), ('case', 3), ('char', 3), ('continue', 3), ('const', 3), ('try', 2), ('implements', 2), ('interface', 2), ('long', 2), ('native', 2), ('package', 2), ('short', 2), ('super', 2), ('abstract', 1), ('assert', 1), ('catch', 1), ('finally', 1), ('enum', 1), ('instanceOf', 1), ('private', 1), ('protected', 1), ('strictfp', 1), ('synchronized', 1), ('throw', 1), ('throws', 1), ('transient', 1), ('volatile', 1), ('goto', 1)]\n"
     ]
    }
   ],
   "source": [
    "print(dict)"
   ]
  },
  {
   "cell_type": "code",
   "execution_count": 62,
   "metadata": {},
   "outputs": [],
   "source": [
    "dataframe=pd.DataFrame.from_dict(dict)"
   ]
  },
  {
   "cell_type": "code",
   "execution_count": 64,
   "metadata": {},
   "outputs": [],
   "source": [
    "dataframe.columns=['Keyword','Frequency']"
   ]
  },
  {
   "cell_type": "code",
   "execution_count": 68,
   "metadata": {
    "scrolled": true
   },
   "outputs": [],
   "source": [
    "csv=dataframe.to_csv('keywords.csv')"
   ]
  },
  {
   "cell_type": "code",
   "execution_count": null,
   "metadata": {
    "collapsed": true
   },
   "outputs": [],
   "source": []
  }
 ],
 "metadata": {
  "kernelspec": {
   "display_name": "Python 3",
   "language": "python",
   "name": "python3"
  },
  "language_info": {
   "codemirror_mode": {
    "name": "ipython",
    "version": 3
   },
   "file_extension": ".py",
   "mimetype": "text/x-python",
   "name": "python",
   "nbconvert_exporter": "python",
   "pygments_lexer": "ipython3",
   "version": "3.6.3"
  }
 },
 "nbformat": 4,
 "nbformat_minor": 2
}
